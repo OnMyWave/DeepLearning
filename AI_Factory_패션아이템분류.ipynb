{
  "nbformat": 4,
  "nbformat_minor": 0,
  "metadata": {
    "colab": {
      "name": "AI_Factory : 패션아이템분류.ipynb",
      "provenance": [],
      "collapsed_sections": [],
      "authorship_tag": "ABX9TyMIrUPiyRABKcpD7jeON6Cb",
      "include_colab_link": true
    },
    "kernelspec": {
      "display_name": "Python 3",
      "name": "python3"
    },
    "language_info": {
      "name": "python"
    }
  },
  "cells": [
    {
      "cell_type": "markdown",
      "metadata": {
        "id": "view-in-github",
        "colab_type": "text"
      },
      "source": [
        "<a href=\"https://colab.research.google.com/github/OnMyWave/DeepLearning/blob/main/AI_Factory_%ED%8C%A8%EC%85%98%EC%95%84%EC%9D%B4%ED%85%9C%EB%B6%84%EB%A5%98.ipynb\" target=\"_parent\"><img src=\"https://colab.research.google.com/assets/colab-badge.svg\" alt=\"Open In Colab\"/></a>"
      ]
    },
    {
      "cell_type": "code",
      "metadata": {
        "colab": {
          "base_uri": "https://localhost:8080/"
        },
        "id": "31HcfaNNIJhX",
        "outputId": "821dc49b-5c53-4bb5-ccd3-ef90a1cb8891"
      },
      "source": [
        "import tensorflow as tf\n",
        "import numpy as np\n",
        "\n",
        "DATA_URL = 'https://storage.googleapis.com/tensorflow/tf-keras-datasets/mnist.npz'\n",
        "path = tf.keras.utils.get_file('mnist.npz', DATA_URL)\n",
        "\n",
        "def train_mnist_conv():\n",
        "\n",
        "\n",
        "    mnist = tf.keras.datasets.mnist\n",
        "    (training_images, training_labels), (test_images, test_labels) = mnist.load_data(path=path)\n",
        "\n",
        "    training_images=training_images.reshape(60000, 28, 28, 1)\n",
        "    training_images=training_images / 255.0\n",
        "    test_images = test_images.reshape(10000, 28, 28, 1)\n",
        "    test_images=test_images/255.0\n",
        "    \n",
        "    model = tf.keras.models.Sequential([\n",
        "\n",
        "          tf.keras.layers.Conv2D(32, (3,3), activation='relu', input_shape=(28, 28, 1)),\n",
        "          tf.keras.layers.Conv2D(32, (3,3), activation='relu'),\n",
        "          tf.keras.layers.MaxPooling2D(2, 2),\n",
        "          tf.keras.layers.Conv2D(32, (3,3), activation='relu'),\n",
        "          tf.keras.layers.MaxPooling2D(2, 2),\n",
        "          tf.keras.layers.Dropout(0.2),\n",
        "          tf.keras.layers.Conv2D(32, (3,3), activation='relu'),\n",
        "          tf.keras.layers.MaxPooling2D(2, 2),\n",
        "          tf.keras.layers.Flatten(),\n",
        "          tf.keras.layers.Dense(128, activation=tf.nn.relu),\n",
        "          tf.keras.layers.Dense(64, activation=tf.nn.relu),\n",
        "          tf.keras.layers.Dense(128, activation=tf.nn.relu),\n",
        "          tf.keras.layers.Dense(10, activation=tf.nn.softmax)\n",
        "\n",
        "    ])\n",
        "\n",
        "\n",
        "    model.compile(optimizer='adam', loss='sparse_categorical_crossentropy', metrics=['accuracy'])\n",
        "\n",
        "    history = model.fit(\n",
        "\n",
        "    training_images,training_labels,epochs = 5\n",
        "\n",
        "    )\n",
        "    prob_pred = model.predict(test_images)\n",
        "    prob_label = prob_pred.argmax(axis=-1)\n",
        "    np.savetxt('y_pred.csv', prob_label,fmt='%d')\n",
        "\n",
        "    # return history.epoch, history.history['accuracy'][-1]\n",
        "    return model.summary()\n",
        "\n",
        "\n",
        "_, _ = train_mnist_conv()\n"
      ],
      "execution_count": null,
      "outputs": [
        {
          "output_type": "stream",
          "text": [
            "Epoch 1/5\n",
            "1875/1875 [==============================] - 114s 60ms/step - loss: 0.6167 - accuracy: 0.7874\n",
            "Epoch 2/5\n",
            "1875/1875 [==============================] - 112s 60ms/step - loss: 0.1073 - accuracy: 0.9663\n",
            "Epoch 3/5\n",
            "1875/1875 [==============================] - 112s 60ms/step - loss: 0.0722 - accuracy: 0.9780\n",
            "Epoch 4/5\n",
            "1875/1875 [==============================] - 112s 60ms/step - loss: 0.0620 - accuracy: 0.9811\n",
            "Epoch 5/5\n",
            "1875/1875 [==============================] - 112s 60ms/step - loss: 0.0547 - accuracy: 0.9834\n"
          ],
          "name": "stdout"
        }
      ]
    }
  ]
}