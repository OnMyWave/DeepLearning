{
  "nbformat": 4,
  "nbformat_minor": 0,
  "metadata": {
    "colab": {
      "name": "Titanic.ipynb",
      "provenance": []
    },
    "kernelspec": {
      "name": "python3",
      "display_name": "Python 3"
    },
    "language_info": {
      "name": "python"
    }
  },
  "cells": [
    {
      "cell_type": "code",
      "metadata": {
        "id": "yv4ak1lYoUYB",
        "colab": {
          "base_uri": "https://localhost:8080/"
        },
        "outputId": "bfe6ccc2-a1a9-46a4-fedb-4ec0317fbe1a"
      },
      "source": [
        "# 구글 드라이브 마운트\n",
        "from google.colab import drive\n",
        "drive.mount('/content/gdrive')\n",
        "DIR = \"/content/gdrive/MyDrive/Kaggle/KaggleBook/Data/ch01\"\n",
        "\n",
        "\n",
        "# import 라이브러리\n",
        "import pandas as pd\n",
        "import numpy as np"
      ],
      "execution_count": 39,
      "outputs": [
        {
          "output_type": "stream",
          "text": [
            "Drive already mounted at /content/gdrive; to attempt to forcibly remount, call drive.mount(\"/content/gdrive\", force_remount=True).\n"
          ],
          "name": "stdout"
        }
      ]
    },
    {
      "cell_type": "code",
      "metadata": {
        "id": "ysZwvp2kp-Ju"
      },
      "source": [
        "# 데이터 로드\n",
        "train = pd.read_csv(DIR + \"/train.csv\")\n",
        "test = pd.read_csv(DIR + \"/test.csv\")"
      ],
      "execution_count": 40,
      "outputs": []
    },
    {
      "cell_type": "code",
      "metadata": {
        "colab": {
          "base_uri": "https://localhost:8080/"
        },
        "id": "B0caL4TUqXda",
        "outputId": "e6615204-77d2-4463-d7bf-d19a8ef3abda"
      },
      "source": [
        "train.info()"
      ],
      "execution_count": 41,
      "outputs": [
        {
          "output_type": "stream",
          "text": [
            "<class 'pandas.core.frame.DataFrame'>\n",
            "RangeIndex: 891 entries, 0 to 890\n",
            "Data columns (total 12 columns):\n",
            " #   Column       Non-Null Count  Dtype  \n",
            "---  ------       --------------  -----  \n",
            " 0   PassengerId  891 non-null    int64  \n",
            " 1   Survived     891 non-null    int64  \n",
            " 2   Pclass       891 non-null    int64  \n",
            " 3   Name         891 non-null    object \n",
            " 4   Sex          891 non-null    object \n",
            " 5   Age          714 non-null    float64\n",
            " 6   SibSp        891 non-null    int64  \n",
            " 7   Parch        891 non-null    int64  \n",
            " 8   Ticket       891 non-null    object \n",
            " 9   Fare         891 non-null    float64\n",
            " 10  Cabin        204 non-null    object \n",
            " 11  Embarked     889 non-null    object \n",
            "dtypes: float64(2), int64(5), object(5)\n",
            "memory usage: 83.7+ KB\n"
          ],
          "name": "stdout"
        }
      ]
    },
    {
      "cell_type": "code",
      "metadata": {
        "id": "4UOLMbpxrbtp"
      },
      "source": [
        "# 목적변수와 특징 분리\n",
        "train_x = train.drop(['Survived'],axis = 1)\n",
        "train_y = train['Survived']\n",
        "test_x = test.copy()"
      ],
      "execution_count": 42,
      "outputs": []
    },
    {
      "cell_type": "markdown",
      "metadata": {
        "id": "0xJmBtxZtBOe"
      },
      "source": [
        "### Gradient Boosting Decision Tree (GBDT)"
      ]
    },
    {
      "cell_type": "markdown",
      "metadata": {
        "id": "g4h_Q2_9vBK5"
      },
      "source": [
        "#### Data Preprocessing\n",
        "\n",
        "\n"
      ]
    },
    {
      "cell_type": "code",
      "metadata": {
        "id": "Z_XSCvrPtPX3"
      },
      "source": [
        "from sklearn.preprocessing import LabelEncoder\n",
        "\n",
        "col = ['PassengerId','Name','Ticket','Cabin']\n",
        "train_x = train_x.drop(col, axis =1)\n",
        "test_x = test_x.drop(col, axis = 1)\n",
        "\n",
        "for c in ['Sex', 'Embarked']:\n",
        "  le = LabelEncoder()\n",
        "  le.fit(train_x[c].fillna('NA'))\n",
        "\n",
        "  train_x[c] = le.transform(train_x[c].fillna('NA'))\n",
        "  test_x[c] = le.transform(test_x[c].fillna('NA'))\n",
        "\n",
        "\n",
        "  "
      ],
      "execution_count": 43,
      "outputs": []
    },
    {
      "cell_type": "markdown",
      "metadata": {
        "id": "Zf-mx_kyvVX4"
      },
      "source": [
        "## XGBOOST"
      ]
    },
    {
      "cell_type": "code",
      "metadata": {
        "colab": {
          "base_uri": "https://localhost:8080/",
          "height": 447
        },
        "id": "u-695wLBtSi4",
        "outputId": "c8c6e3e6-5403-4883-840b-e7792818198d"
      },
      "source": [
        "from xgboost import XGBClassifier\n",
        "\n",
        "model = XGBClassifier(n_estimators = 20, random_state = 71)\n",
        "model.fit(train_x,train_y)\n",
        "\n",
        "pred = model.predict_proba(test_x)[:,1]\n",
        "\n",
        "pred_label = np.where(pred > 0.5, 1, 0)\n",
        "\n",
        "submission = pd.DataFrame({'PassengerId' : test['PassengerId'],'Survived': pred_label})\n",
        "submission"
      ],
      "execution_count": 44,
      "outputs": [
        {
          "output_type": "execute_result",
          "data": {
            "text/html": [
              "<div>\n",
              "<style scoped>\n",
              "    .dataframe tbody tr th:only-of-type {\n",
              "        vertical-align: middle;\n",
              "    }\n",
              "\n",
              "    .dataframe tbody tr th {\n",
              "        vertical-align: top;\n",
              "    }\n",
              "\n",
              "    .dataframe thead th {\n",
              "        text-align: right;\n",
              "    }\n",
              "</style>\n",
              "<table border=\"1\" class=\"dataframe\">\n",
              "  <thead>\n",
              "    <tr style=\"text-align: right;\">\n",
              "      <th></th>\n",
              "      <th>PassengerId</th>\n",
              "      <th>Survived</th>\n",
              "    </tr>\n",
              "  </thead>\n",
              "  <tbody>\n",
              "    <tr>\n",
              "      <th>0</th>\n",
              "      <td>892</td>\n",
              "      <td>0</td>\n",
              "    </tr>\n",
              "    <tr>\n",
              "      <th>1</th>\n",
              "      <td>893</td>\n",
              "      <td>0</td>\n",
              "    </tr>\n",
              "    <tr>\n",
              "      <th>2</th>\n",
              "      <td>894</td>\n",
              "      <td>0</td>\n",
              "    </tr>\n",
              "    <tr>\n",
              "      <th>3</th>\n",
              "      <td>895</td>\n",
              "      <td>0</td>\n",
              "    </tr>\n",
              "    <tr>\n",
              "      <th>4</th>\n",
              "      <td>896</td>\n",
              "      <td>0</td>\n",
              "    </tr>\n",
              "    <tr>\n",
              "      <th>...</th>\n",
              "      <td>...</td>\n",
              "      <td>...</td>\n",
              "    </tr>\n",
              "    <tr>\n",
              "      <th>413</th>\n",
              "      <td>1305</td>\n",
              "      <td>0</td>\n",
              "    </tr>\n",
              "    <tr>\n",
              "      <th>414</th>\n",
              "      <td>1306</td>\n",
              "      <td>1</td>\n",
              "    </tr>\n",
              "    <tr>\n",
              "      <th>415</th>\n",
              "      <td>1307</td>\n",
              "      <td>0</td>\n",
              "    </tr>\n",
              "    <tr>\n",
              "      <th>416</th>\n",
              "      <td>1308</td>\n",
              "      <td>0</td>\n",
              "    </tr>\n",
              "    <tr>\n",
              "      <th>417</th>\n",
              "      <td>1309</td>\n",
              "      <td>0</td>\n",
              "    </tr>\n",
              "  </tbody>\n",
              "</table>\n",
              "<p>418 rows × 2 columns</p>\n",
              "</div>"
            ],
            "text/plain": [
              "     PassengerId  Survived\n",
              "0            892         0\n",
              "1            893         0\n",
              "2            894         0\n",
              "3            895         0\n",
              "4            896         0\n",
              "..           ...       ...\n",
              "413         1305         0\n",
              "414         1306         1\n",
              "415         1307         0\n",
              "416         1308         0\n",
              "417         1309         0\n",
              "\n",
              "[418 rows x 2 columns]"
            ]
          },
          "metadata": {
            "tags": []
          },
          "execution_count": 44
        }
      ]
    },
    {
      "cell_type": "markdown",
      "metadata": {
        "id": "Ni_VfAF5Fsxk"
      },
      "source": [
        "### 모델 검증\n"
      ]
    },
    {
      "cell_type": "code",
      "metadata": {
        "id": "1XciZj0uFr_p",
        "colab": {
          "base_uri": "https://localhost:8080/"
        },
        "outputId": "05c108c2-e0b3-4452-fbe4-ebdbdf0939d6"
      },
      "source": [
        "from sklearn.metrics import log_loss, accuracy_score\n",
        "from sklearn.model_selection import KFold\n",
        "\n",
        "scores_accuracy = []\n",
        "scores_logloss = []\n",
        "\n",
        "kf = KFold(n_splits=4, shuffle = True, random_state = 42)\n",
        "for tr_idx, va_idx in kf.split(train_x):\n",
        "  tr_x, va_x = train_x.iloc[tr_idx], train_x.iloc[va_idx]\n",
        "  tr_y, va_y = train_y.iloc[tr_idx], train_y.iloc[va_idx]\n",
        "\n",
        "model = XGBClassifier(n_estimators=20,random_state= 42)\n",
        "model.fit(tr_x,tr_y)\n",
        "\n",
        "va_pred = model.predict_proba(va_x)[:,1]\n",
        "\n",
        "logloss = log_loss(va_y,va_pred)\n",
        "accuracy = accuracy_score(va_y,va_pred > 0.5)\n",
        "\n",
        "scores_logloss.append(logloss)\n",
        "scores_accuracy.append(accuracy)\n",
        "\n",
        "logloss = np.mean(scores_logloss)\n",
        "accuracy = np.mean(scores_accuracy)\n",
        "\n",
        "print(f'logloss: {logloss:.4f}, accuracy : {accuracy:.4f}')"
      ],
      "execution_count": 45,
      "outputs": [
        {
          "output_type": "stream",
          "text": [
            "logloss: 0.4209, accuracy : 0.8153\n"
          ],
          "name": "stdout"
        }
      ]
    },
    {
      "cell_type": "markdown",
      "metadata": {
        "id": "owjekxGJshVr"
      },
      "source": [
        "## Logistic Regression을 더한 Ensemble"
      ]
    },
    {
      "cell_type": "code",
      "metadata": {
        "id": "QmUTFBwnsoi2"
      },
      "source": [
        "from sklearn.preprocessing import OneHotEncoder\n",
        "\n",
        "# 원본 데이터를 복사하기\n",
        "train_x2 = train.drop(['Survived'], axis=1)\n",
        "test_x2 = test.copy()\n",
        "\n",
        "# 특징 PassengerId를 제거\n",
        "train_x2 = train_x2.drop(['PassengerId'], axis=1)\n",
        "test_x2 = test_x2.drop(['PassengerId'], axis=1)\n",
        "\n",
        "# 특징 [Name, Ticket, Cabin]을 제거\n",
        "train_x2 = train_x2.drop(['Name', 'Ticket', 'Cabin'], axis=1)\n",
        "test_x2 = test_x2.drop(['Name', 'Ticket', 'Cabin'], axis=1)\n",
        "\n",
        "# 원핫 인코딩(one hot encoding)을 수행\n",
        "cat_cols = ['Sex', 'Embarked', 'Pclass']\n",
        "ohe = OneHotEncoder(categories='auto', sparse=False)\n",
        "ohe.fit(train_x2[cat_cols].fillna('NA'))\n",
        "\n",
        "# 원핫 인코딩의 더미 변수의 열이름을 작성\n",
        "ohe_columns = []\n",
        "for i, c in enumerate(cat_cols):\n",
        "    ohe_columns += [f'{c}_{v}' for v in ohe.categories_[i]]\n",
        "\n",
        "# 원핫 인코딩에 의한 변환을 수행\n",
        "ohe_train_x2 = pd.DataFrame(ohe.transform(train_x2[cat_cols].fillna('NA')), columns=ohe_columns)\n",
        "ohe_test_x2 = pd.DataFrame(ohe.transform(test_x2[cat_cols].fillna('NA')), columns=ohe_columns)\n",
        "\n",
        "# 원핫 인코딩이 수행 후, 원래 특징를 제거\n",
        "train_x2 = train_x2.drop(cat_cols, axis=1)\n",
        "test_x2 = test_x2.drop(cat_cols, axis=1)\n",
        "\n",
        "# 원핫 인코딩을 수행된 특징를 결합\n",
        "train_x2 = pd.concat([train_x2, ohe_train_x2], axis=1)\n",
        "test_x2 = pd.concat([test_x2, ohe_test_x2], axis=1)\n",
        "\n",
        "# 수치변수의 결측치를 학습 데이터의 평균으로 채우기\n",
        "num_cols = ['Age', 'SibSp', 'Parch', 'Fare']\n",
        "for col in num_cols:\n",
        "    train_x2[col].fillna(train_x2[col].mean(), inplace=True)\n",
        "    test_x2[col].fillna(train_x2[col].mean(), inplace=True)\n",
        "\n",
        "# 특징Fare를 로그 변환을 수행\n",
        "train_x2['Fare'] = np.log1p(train_x2['Fare'])\n",
        "test_x2['Fare'] = np.log1p(test_x2['Fare'])\n",
        "\n",
        "# -----------------------------------\n",
        "# 앙상블(ensemble)\n",
        "# -----------------------------------\n",
        "from sklearn.linear_model import LogisticRegression\n",
        "\n",
        "# xgboost 모델\n",
        "model_xgb = XGBClassifier(n_estimators=20, random_state=71, use_label_encoder=False)\n",
        "model_xgb.fit(train_x, train_y)\n",
        "pred_xgb = model_xgb.predict_proba(test_x)[:, 1]\n",
        "\n",
        "# 로지스틱 회귀 모델\n",
        "# xgboost 모델과는 다른 특징을 넣어야 하므로 train_x2, test_x2를 생성\n",
        "model_lr = LogisticRegression(solver='lbfgs', max_iter=300)\n",
        "model_lr.fit(train_x2, train_y)\n",
        "pred_lr = model_lr.predict_proba(test_x2)[:, 1]\n",
        "\n",
        "# 예측 결과의 가중 평균 구하기\n",
        "pred = pred_xgb * 0.8 + pred_lr * 0.2\n",
        "pred_label = np.where(pred > 0.5, 1, 0)\n"
      ],
      "execution_count": 46,
      "outputs": []
    },
    {
      "cell_type": "code",
      "metadata": {
        "colab": {
          "base_uri": "https://localhost:8080/"
        },
        "id": "H6NELCmDtgR4",
        "outputId": "9d0e0699-a4a1-4a58-9774-392a41227a54"
      },
      "source": [
        "pred_label"
      ],
      "execution_count": 47,
      "outputs": [
        {
          "output_type": "execute_result",
          "data": {
            "text/plain": [
              "array([0, 0, 0, 0, 0, 0, 1, 0, 1, 0, 0, 0, 1, 0, 1, 1, 0, 0, 1, 1, 0, 1,\n",
              "       1, 0, 1, 0, 1, 0, 0, 0, 0, 0, 0, 0, 0, 0, 1, 1, 0, 0, 0, 0, 0, 1,\n",
              "       1, 0, 0, 0, 1, 0, 0, 0, 1, 1, 0, 0, 0, 0, 0, 1, 0, 0, 0, 1, 0, 1,\n",
              "       1, 0, 0, 1, 1, 0, 1, 0, 1, 0, 0, 1, 0, 1, 1, 0, 0, 0, 0, 0, 1, 1,\n",
              "       1, 1, 1, 0, 1, 0, 0, 0, 1, 0, 1, 0, 1, 0, 0, 0, 1, 0, 0, 0, 0, 0,\n",
              "       0, 1, 1, 1, 1, 0, 0, 1, 0, 1, 1, 0, 1, 0, 0, 1, 0, 1, 0, 0, 0, 0,\n",
              "       0, 0, 0, 0, 0, 0, 1, 0, 0, 1, 0, 0, 0, 0, 0, 0, 0, 0, 1, 0, 0, 0,\n",
              "       0, 0, 1, 1, 0, 1, 1, 1, 1, 0, 0, 1, 0, 0, 1, 1, 0, 0, 0, 0, 0, 1,\n",
              "       1, 0, 1, 1, 0, 0, 1, 0, 1, 0, 1, 0, 0, 0, 0, 0, 0, 0, 1, 0, 1, 1,\n",
              "       0, 1, 1, 1, 0, 1, 0, 0, 1, 0, 1, 0, 0, 0, 0, 1, 0, 0, 1, 0, 1, 0,\n",
              "       1, 0, 1, 0, 1, 1, 0, 1, 0, 0, 0, 1, 0, 0, 0, 0, 0, 0, 1, 1, 1, 1,\n",
              "       0, 0, 0, 0, 1, 0, 1, 1, 1, 0, 0, 0, 0, 0, 0, 0, 1, 0, 0, 0, 1, 1,\n",
              "       0, 0, 0, 0, 1, 0, 0, 0, 1, 1, 0, 1, 0, 0, 0, 0, 1, 1, 1, 1, 1, 0,\n",
              "       0, 0, 0, 0, 0, 1, 0, 0, 0, 0, 1, 0, 0, 0, 0, 0, 0, 0, 1, 1, 0, 1,\n",
              "       0, 0, 0, 0, 0, 1, 1, 1, 0, 0, 0, 0, 0, 0, 0, 0, 1, 0, 1, 0, 0, 0,\n",
              "       1, 0, 0, 1, 0, 0, 0, 0, 0, 0, 0, 0, 0, 1, 0, 1, 0, 1, 0, 1, 1, 0,\n",
              "       0, 0, 1, 0, 1, 0, 0, 0, 0, 1, 1, 0, 1, 0, 0, 0, 1, 0, 0, 1, 0, 0,\n",
              "       1, 1, 0, 0, 0, 0, 0, 0, 1, 1, 0, 1, 0, 0, 0, 0, 0, 1, 0, 0, 0, 1,\n",
              "       0, 1, 0, 0, 1, 0, 1, 0, 0, 0, 0, 0, 1, 1, 1, 1, 1, 0, 1, 0, 0, 0])"
            ]
          },
          "metadata": {
            "tags": []
          },
          "execution_count": 47
        }
      ]
    }
  ]
}