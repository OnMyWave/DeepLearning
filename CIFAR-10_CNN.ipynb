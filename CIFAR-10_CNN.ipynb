{
  "nbformat": 4,
  "nbformat_minor": 0,
  "metadata": {
    "colab": {
      "name": "Untitled0.ipynb",
      "provenance": [],
      "collapsed_sections": [],
      "authorship_tag": "ABX9TyP+vhjTT6QJ9C4nqv3UyL0L",
      "include_colab_link": true
    },
    "kernelspec": {
      "name": "python3810jvsc74a57bd0026812aac890d726a2c3dfc87401d8f33db3cbfd9ce8b9b9eb4a60b8ea54f0cf",
      "display_name": "Python 3.8.10 64-bit ('tf': conda)"
    },
    "language_info": {
      "name": "python",
      "version": "3.8.10"
    },
    "metadata": {
      "interpreter": {
        "hash": "026812aac890d726a2c3dfc87401d8f33db3cbfd9ce8b9b9eb4a60b8ea54f0cf"
      }
    }
  },
  "cells": [
    {
      "cell_type": "markdown",
      "metadata": {
        "id": "view-in-github",
        "colab_type": "text"
      },
      "source": [
        "<a href=\"https://colab.research.google.com/github/OnMyWave/DeepLearning/blob/main/CIFAR-10_CNN.ipynb\" target=\"_parent\"><img src=\"https://colab.research.google.com/assets/colab-badge.svg\" alt=\"Open In Colab\"/></a>"
      ]
    },
    {
      "cell_type": "markdown",
      "metadata": {
        "id": "LvMM7rRbNEqt"
      },
      "source": [
        "CIFAR-10 CNN"
      ]
    },
    {
      "cell_type": "code",
      "metadata": {
        "id": "5TD0D9CeMXQ7"
      },
      "source": [
        "# import 라이브러리\n",
        "import numpy as np\n",
        "import tensorflow as tf\n",
        "from tensorflow.keras.datasets import cifar10\n",
        "from tensorflow.keras.models import Sequential\n",
        "from tensorflow.keras.layers import Conv2D, MaxPool2D\n",
        "from tensorflow.keras.layers import Flatten, Dense, Dropout\n",
        "\n"
      ],
      "execution_count": 1,
      "outputs": []
    },
    {
      "cell_type": "code",
      "metadata": {
        "id": "xlerXkDyNDy-"
      },
      "source": [
        "# 데이터 가져오기\n",
        "(x_train,t_train),(x_test,t_test) = cifar10.load_data()"
      ],
      "execution_count": 2,
      "outputs": [
        {
          "output_type": "stream",
          "name": "stdout",
          "text": [
            "Downloading data from https://www.cs.toronto.edu/~kriz/cifar-10-python.tar.gz\n",
            "170500096/170498071 [==============================] - 35s 0us/step\n"
          ]
        }
      ]
    },
    {
      "cell_type": "code",
      "metadata": {
        "colab": {
          "base_uri": "https://localhost:8080/"
        },
        "id": "i_5kJhm3Nd15",
        "outputId": "2e6da98b-719b-4d1a-a0e4-9a878ed5ed5b"
      },
      "source": [
        "x_train.shape\n",
        "t_train.shape"
      ],
      "execution_count": 3,
      "outputs": [
        {
          "output_type": "execute_result",
          "data": {
            "text/plain": [
              "(50000, 1)"
            ]
          },
          "metadata": {},
          "execution_count": 3
        }
      ]
    },
    {
      "cell_type": "code",
      "metadata": {
        "id": "XLRzWnllNmo1"
      },
      "source": [
        "x_train = x_train.astype(np.float32) / 255.0  # Normalization\n",
        "x_test = x_test.astype(np.float32) / 255.0\n"
      ],
      "execution_count": 4,
      "outputs": []
    },
    {
      "cell_type": "code",
      "metadata": {
        "colab": {
          "base_uri": "https://localhost:8080/"
        },
        "id": "DtpIKeYhN8UW",
        "outputId": "81befec9-fc51-418d-ae72-365466733f97"
      },
      "source": [
        "cnn_model = Sequential()\n",
        "cnn_model.add(Conv2D(filters = 32, kernel_size=(3,3),activation = 'relu', input_shape = (32,32,3)))\n",
        "cnn_model.add(Conv2D(filters = 64, kernel_size=(3,3),activation= 'relu'))\n",
        "cnn_model.add(MaxPool2D(pool_size = (2,2)))\n",
        "cnn_model.add(Dropout(0.5))\n",
        "cnn_model.add(Flatten())\n",
        "cnn_model.add(Dense(128,activation='relu'))\n",
        "cnn_model.add(Dropout(0.25))\n",
        "cnn_model.add(Dense(10,activation='softmax'))\n",
        "cnn_model.summary()"
      ],
      "execution_count": 6,
      "outputs": [
        {
          "output_type": "stream",
          "name": "stdout",
          "text": [
            "Model: \"sequential\"\n_________________________________________________________________\nLayer (type)                 Output Shape              Param #   \n=================================================================\nconv2d (Conv2D)              (None, 30, 30, 32)        896       \n_________________________________________________________________\nconv2d_1 (Conv2D)            (None, 28, 28, 64)        18496     \n_________________________________________________________________\nmax_pooling2d (MaxPooling2D) (None, 14, 14, 64)        0         \n_________________________________________________________________\ndropout (Dropout)            (None, 14, 14, 64)        0         \n_________________________________________________________________\nflatten (Flatten)            (None, 12544)             0         \n_________________________________________________________________\ndense (Dense)                (None, 128)               1605760   \n_________________________________________________________________\ndropout_1 (Dropout)          (None, 128)               0         \n_________________________________________________________________\ndense_1 (Dense)              (None, 10)                1290      \n=================================================================\nTotal params: 1,626,442\nTrainable params: 1,626,442\nNon-trainable params: 0\n_________________________________________________________________\n"
          ]
        }
      ]
    },
    {
      "cell_type": "code",
      "metadata": {
        "colab": {
          "base_uri": "https://localhost:8080/",
          "height": 1000
        },
        "id": "qOFChCsxOCD1",
        "outputId": "32910612-0e0d-461e-ec29-2d74f631e39f"
      },
      "source": [
        "cnn_model.compile(loss='sparse_categorical_crossentropy',optimizer=tf.keras.optimizers.Adam(),metrics=['accuracy']\n",
        "                  )\n",
        "hist = cnn_model.fit(x_train,t_train, batch_size = 1000 ,epochs= 20,validation_data=(x_test,t_test))\n"
      ],
      "execution_count": 7,
      "outputs": [
        {
          "output_type": "stream",
          "name": "stdout",
          "text": [
            "Epoch 1/20\n",
            "50/50 [==============================] - 21s 399ms/step - loss: 2.0664 - accuracy: 0.2384 - val_loss: 1.5209 - val_accuracy: 0.4586\n",
            "Epoch 2/20\n",
            "50/50 [==============================] - 18s 366ms/step - loss: 1.6925 - accuracy: 0.4025 - val_loss: 1.3397 - val_accuracy: 0.5256\n",
            "Epoch 3/20\n",
            "50/50 [==============================] - 19s 385ms/step - loss: 1.5961 - accuracy: 0.4548 - val_loss: 1.2280 - val_accuracy: 0.5681\n",
            "Epoch 4/20\n",
            "50/50 [==============================] - 18s 365ms/step - loss: 1.4927 - accuracy: 0.4912 - val_loss: 1.1969 - val_accuracy: 0.5763\n",
            "Epoch 5/20\n",
            "50/50 [==============================] - 18s 368ms/step - loss: 1.4656 - accuracy: 0.5051 - val_loss: 1.1646 - val_accuracy: 0.5974\n",
            "Epoch 6/20\n",
            "50/50 [==============================] - 18s 368ms/step - loss: 1.4080 - accuracy: 0.5268 - val_loss: 1.1348 - val_accuracy: 0.6027\n",
            "Epoch 7/20\n",
            "50/50 [==============================] - 18s 370ms/step - loss: 1.3233 - accuracy: 0.5482 - val_loss: 1.1177 - val_accuracy: 0.6099\n",
            "Epoch 8/20\n",
            "50/50 [==============================] - 19s 371ms/step - loss: 1.2847 - accuracy: 0.5623 - val_loss: 1.0576 - val_accuracy: 0.6293\n",
            "Epoch 9/20\n",
            "50/50 [==============================] - 19s 376ms/step - loss: 1.2753 - accuracy: 0.5587 - val_loss: 1.0871 - val_accuracy: 0.6153\n",
            "Epoch 10/20\n",
            "50/50 [==============================] - 19s 373ms/step - loss: 1.2553 - accuracy: 0.5643 - val_loss: 1.0576 - val_accuracy: 0.6323\n",
            "Epoch 11/20\n",
            "50/50 [==============================] - 19s 376ms/step - loss: 1.2385 - accuracy: 0.5671 - val_loss: 1.0983 - val_accuracy: 0.6191\n",
            "Epoch 12/20\n",
            "50/50 [==============================] - 19s 380ms/step - loss: 1.2023 - accuracy: 0.5770 - val_loss: 1.0545 - val_accuracy: 0.6305\n",
            "Epoch 13/20\n",
            "50/50 [==============================] - 19s 378ms/step - loss: 1.2207 - accuracy: 0.5725 - val_loss: 1.0680 - val_accuracy: 0.6240\n",
            "Epoch 14/20\n",
            "50/50 [==============================] - 19s 379ms/step - loss: 1.1964 - accuracy: 0.5724 - val_loss: 1.0894 - val_accuracy: 0.6092\n",
            "Epoch 15/20\n",
            "50/50 [==============================] - 19s 379ms/step - loss: 1.1988 - accuracy: 0.5773 - val_loss: 1.0872 - val_accuracy: 0.6123\n",
            "Epoch 16/20\n",
            "50/50 [==============================] - 19s 379ms/step - loss: 1.1965 - accuracy: 0.5758 - val_loss: 1.0786 - val_accuracy: 0.6161\n",
            "Epoch 17/20\n",
            "50/50 [==============================] - 19s 383ms/step - loss: 1.2113 - accuracy: 0.5702 - val_loss: 1.0642 - val_accuracy: 0.6269\n",
            "Epoch 18/20\n",
            "50/50 [==============================] - 19s 381ms/step - loss: 1.1750 - accuracy: 0.5834 - val_loss: 1.0666 - val_accuracy: 0.6278\n",
            "Epoch 19/20\n",
            "50/50 [==============================] - 19s 380ms/step - loss: 1.1862 - accuracy: 0.5783 - val_loss: 1.0944 - val_accuracy: 0.6092\n",
            "Epoch 20/20\n",
            "50/50 [==============================] - 19s 382ms/step - loss: 1.1718 - accuracy: 0.5836 - val_loss: 1.0775 - val_accuracy: 0.6248\n"
          ]
        }
      ]
    },
    {
      "cell_type": "code",
      "execution_count": null,
      "metadata": {},
      "outputs": [],
      "source": []
    }
  ]
}